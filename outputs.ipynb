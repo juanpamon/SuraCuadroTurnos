{
 "cells": [
  {
   "cell_type": "markdown",
   "metadata": {
    "application/vnd.databricks.v1+cell": {
     "cellMetadata": {
      "byteLimit": 2048000,
      "rowLimit": 10000
     },
     "inputWidgets": {},
     "nuid": "b3ea65d3-fe38-4aa7-ba37-ffe12980970e",
     "showTitle": false,
     "title": ""
    },
    "id": "Vr2YRYcePKiN"
   },
   "source": [
    "# Antes de iniciar...\n",
    "\n",
    "- En la carpeta salidas_modelo deben estar los archivos resultantes de la ejecución anterior, donde el nombre del archivo tiene el id de la sede. Ej: 2161.xlsx\n",
    "\n",
    "- El archivo de tablas de WFS se debe llamar \"TablasWFS.xlsx\"\n",
    "\n",
    "- El archivo de profesionales se debe llamar \"2_PROFESIONALES.xlsx\"\n",
    "\n",
    "- La tabla de homologación se debe llamar \"stations.csv\" y debe estar separado por \";\""
   ]
  },
  {
   "cell_type": "markdown",
   "metadata": {
    "application/vnd.databricks.v1+cell": {
     "cellMetadata": {
      "byteLimit": 2048000,
      "rowLimit": 10000
     },
     "inputWidgets": {},
     "nuid": "e362f499-dde0-4850-b7d0-3f3e90d590f5",
     "showTitle": false,
     "title": ""
    }
   },
   "source": [
    "# Instalar"
   ]
  },
  {
   "cell_type": "code",
   "execution_count": 0,
   "metadata": {
    "application/vnd.databricks.v1+cell": {
     "cellMetadata": {
      "byteLimit": 2048000,
      "rowLimit": 10000
     },
     "inputWidgets": {},
     "nuid": "629b098f-98ff-45e7-8e82-13c57cd1ccf1",
     "showTitle": false,
     "title": ""
    }
   },
   "outputs": [],
   "source": [
    "!pip install openpyxl pysftp"
   ]
  },
  {
   "cell_type": "markdown",
   "metadata": {
    "application/vnd.databricks.v1+cell": {
     "cellMetadata": {
      "byteLimit": 2048000,
      "rowLimit": 10000
     },
     "inputWidgets": {},
     "nuid": "dd1acfda-e8d8-495f-87b0-42165435de61",
     "showTitle": false,
     "title": ""
    },
    "id": "EHYyclApc6_z"
   },
   "source": [
    "---\n",
    "# Importar librerias necesarias\n",
    "---"
   ]
  },
  {
   "cell_type": "code",
   "execution_count": 0,
   "metadata": {
    "application/vnd.databricks.v1+cell": {
     "cellMetadata": {
      "byteLimit": 2048000,
      "rowLimit": 10000
     },
     "inputWidgets": {},
     "nuid": "1e107a55-741b-4e38-8003-2b10f938d3bc",
     "showTitle": false,
     "title": ""
    },
    "id": "L3xki80p9lRG"
   },
   "outputs": [],
   "source": [
    "import pandas as pd\n",
    "import numpy as np\n",
    "import glob\n",
    "import shutil\n",
    "import pysftp\n",
    "import os\n",
    "from datetime import datetime"
   ]
  },
  {
   "cell_type": "markdown",
   "metadata": {
    "application/vnd.databricks.v1+cell": {
     "cellMetadata": {
      "byteLimit": 2048000,
      "rowLimit": 10000
     },
     "inputWidgets": {},
     "nuid": "414b57f9-a65e-4cd4-b752-a1a0345406c0",
     "showTitle": false,
     "title": ""
    },
    "id": "KEygoErusCMV"
   },
   "source": [
    "---\n",
    "# Definir variables comunes\n",
    "---"
   ]
  },
  {
   "cell_type": "code",
   "execution_count": 0,
   "metadata": {
    "application/vnd.databricks.v1+cell": {
     "cellMetadata": {
      "byteLimit": 2048000,
      "rowLimit": 10000
     },
     "inputWidgets": {},
     "nuid": "e87440c3-86db-4e74-bcae-909bfd1d862b",
     "showTitle": false,
     "title": ""
    },
    "id": "0oCKTQo0sAuT"
   },
   "outputs": [],
   "source": [
    "lista_dias = ['DOMINGO', 'LUNES', 'MARTES', 'MIERCOLES', 'JUEVES', 'VIERNES', 'SABADO', 'FESTIVO']\n",
    "lista_dias_wfs = ['Sun', 'Mon', 'Tues', 'Wed', 'Thu', 'Fri', 'Sat', 'Hol']\n",
    "\n",
    "ruta = '/dbfs/FileStore/tables/'\n",
    "ruta_entradas = ruta + 'entradas/'\n",
    "ruta_salidas_modelo = ruta + 'salidas_modelo/'\n",
    "ruta_salidas = ruta + 'salidas/'\n",
    "\n",
    "ruta_salidas_sftp = '/FTPCuadrodeturnos/Modelo_predictivo/Salida/'"
   ]
  },
  {
   "cell_type": "markdown",
   "metadata": {
    "application/vnd.databricks.v1+cell": {
     "cellMetadata": {
      "byteLimit": 2048000,
      "rowLimit": 10000
     },
     "inputWidgets": {},
     "nuid": "a8c6fd0d-c011-450c-a0e9-0e674ffe8ad5",
     "showTitle": false,
     "title": ""
    },
    "id": "k3OH5ehu9a1H"
   },
   "source": [
    "---\n",
    "# Leer los archivos\n",
    "---"
   ]
  },
  {
   "cell_type": "markdown",
   "metadata": {
    "application/vnd.databricks.v1+cell": {
     "cellMetadata": {
      "byteLimit": 2048000,
      "rowLimit": 10000
     },
     "inputWidgets": {},
     "nuid": "36503815-b211-41be-afeb-1a84eee4e5aa",
     "showTitle": false,
     "title": ""
    },
    "id": "-HkHNjXNB1m7"
   },
   "source": [
    "## Resultado del modelo"
   ]
  },
  {
   "cell_type": "markdown",
   "metadata": {
    "application/vnd.databricks.v1+cell": {
     "cellMetadata": {
      "byteLimit": 2048000,
      "rowLimit": 10000
     },
     "inputWidgets": {},
     "nuid": "3255b89a-5002-4091-bb3d-b40b32f40e28",
     "showTitle": false,
     "title": ""
    },
    "id": "NEPnFnfu7clZ"
   },
   "source": [
    "### Leer"
   ]
  },
  {
   "cell_type": "code",
   "execution_count": 0,
   "metadata": {
    "application/vnd.databricks.v1+cell": {
     "cellMetadata": {
      "byteLimit": 2048000,
      "rowLimit": 10000
     },
     "inputWidgets": {},
     "nuid": "70debbd5-f8c3-42de-a6a1-620527eaa341",
     "showTitle": false,
     "title": ""
    },
    "colab": {
     "base_uri": "https://localhost:8080/",
     "height": 424
    },
    "id": "1ayDuAizB6l_",
    "outputId": "a8ddbcad-3f91-4011-954f-d512a585c254"
   },
   "outputs": [],
   "source": [
    "# se leen todos los archivos de la carpeta\n",
    "archivos_xlsx = glob.glob(ruta_salidas_modelo + '*.xlsx')\n",
    "\n",
    "l_dataframes = []\n",
    "for archivo in archivos_xlsx:\n",
    "    df_tempi = pd.read_excel(archivo, 'Hoja1') # Hoja1 que tiene el resultado\n",
    "    nombre_archivo = archivo.split('/')[-1].split('_')[-1].split('.')[0] # porque el nombre del archivo es el id de la sede\n",
    "    df_tempi['id_sede'] = nombre_archivo\n",
    "    l_dataframes.append(df_tempi)\n",
    "\n",
    "# Combinar los DataFrames en un solo DataFrame utilizando pd.concat()\n",
    "df_modelo = pd.concat(l_dataframes, ignore_index = True)\n",
    "\n",
    "df_modelo['persona'] = df_modelo['persona'].astype(str).str.strip() # porque si ya era un string podria tener espacios\n",
    "df_modelo\n"
   ]
  },
  {
   "cell_type": "markdown",
   "metadata": {
    "application/vnd.databricks.v1+cell": {
     "cellMetadata": {
      "byteLimit": 2048000,
      "rowLimit": 10000
     },
     "inputWidgets": {},
     "nuid": "5d620f15-b081-4ac1-a88e-e923dec89513",
     "showTitle": false,
     "title": ""
    },
    "id": "wBYo0JQ5-7ke"
   },
   "source": [
    "### Convertir el turno en hora ini y hora fin"
   ]
  },
  {
   "cell_type": "code",
   "execution_count": 0,
   "metadata": {
    "application/vnd.databricks.v1+cell": {
     "cellMetadata": {
      "byteLimit": 2048000,
      "rowLimit": 10000
     },
     "inputWidgets": {},
     "nuid": "0d7a871e-6e5d-4758-849a-b05208ee773b",
     "showTitle": false,
     "title": ""
    },
    "colab": {
     "base_uri": "https://localhost:8080/",
     "height": 424
    },
    "id": "kQu3ySqy-5B-",
    "outputId": "8adbc72c-ebc7-4c7e-923c-12221d98960c"
   },
   "outputs": [],
   "source": [
    "# Convertir el turno en hora ini y hora fin\n",
    "\n",
    "# se divide\n",
    "df_modelo[['num_horas', 'hora_ini']] = df_modelo['turno'].str.split('_', expand = True)\n",
    "\n",
    "# reemplazar la t\n",
    "df_modelo['num_horas'] = df_modelo['num_horas'].str.replace('T', '').astype(int)\n",
    "\n",
    "# arreglar tipos de dato\n",
    "df_modelo['hora_ini'] = df_modelo['hora_ini'].astype(int)\n",
    "df_modelo['hora_fin'] = df_modelo['hora_ini'] + df_modelo['num_horas']\n",
    "\n",
    "# ya no lo necesitamos mas\n",
    "df_modelo = df_modelo.drop('turno', axis = 1)\n",
    "\n",
    "df_modelo"
   ]
  },
  {
   "cell_type": "markdown",
   "metadata": {
    "application/vnd.databricks.v1+cell": {
     "cellMetadata": {
      "byteLimit": 2048000,
      "rowLimit": 10000
     },
     "inputWidgets": {},
     "nuid": "fa9b3caa-3b54-4f4c-af0f-e97cc3bff58a",
     "showTitle": false,
     "title": ""
    },
    "id": "72y622TyFMpU"
   },
   "source": [
    "## Maestro de profesionales"
   ]
  },
  {
   "cell_type": "code",
   "execution_count": 0,
   "metadata": {
    "application/vnd.databricks.v1+cell": {
     "cellMetadata": {
      "byteLimit": 2048000,
      "rowLimit": 10000
     },
     "inputWidgets": {},
     "nuid": "1a60b2f5-52e5-43a1-87e2-f574b47ff68f",
     "showTitle": false,
     "title": ""
    },
    "colab": {
     "base_uri": "https://localhost:8080/",
     "height": 424
    },
    "id": "mjhpErzvFQHD",
    "outputId": "e1e4eb6a-f095-453f-8956-9cd17d33755a"
   },
   "outputs": [],
   "source": [
    "df_profesionales = pd.read_excel(ruta_entradas + '2_PROFESIONALES.xlsx', 'MAESTRA',\n",
    "                         usecols = ['Id_Sede', 'Id_Compañia', 'Codigo Sf (Id Profesional)', 'QualificationCargo(IdQualification)', 'Station Name '])\n",
    "\n",
    "\n",
    "df_profesionales = df_profesionales.rename(\n",
    "    columns = {\n",
    "        'Id_Sede' : 'id_sede',\n",
    "        'Id_Compañia' : 'id_tipo_sede',\n",
    "        'Codigo Sf (Id Profesional)' : 'id_persona',\n",
    "        'QualificationCargo(IdQualification)' : 'cualificacion',\n",
    "        'Station Name ' : 'estacion'\n",
    "    }\n",
    ")\n",
    "\n",
    "df_profesionales['id_sede'] = df_profesionales['id_sede'].astype(str).str.strip() # porque si ya era un string podria tener espacios\n",
    "df_profesionales['id_persona'] = df_profesionales['id_persona'].astype(str).str.strip() # porque si ya era un string podria tener espacios\n",
    "\n",
    "df_profesionales\n",
    "\n"
   ]
  },
  {
   "cell_type": "markdown",
   "metadata": {
    "application/vnd.databricks.v1+cell": {
     "cellMetadata": {
      "byteLimit": 2048000,
      "rowLimit": 10000
     },
     "inputWidgets": {},
     "nuid": "99412f92-9521-4e89-89e6-858df04e54d5",
     "showTitle": false,
     "title": ""
    },
    "id": "Lug1CB1n5QUI"
   },
   "source": [
    "## Tabla homologación\n",
    "Station / SchedulingGroup / SchedulingUnit"
   ]
  },
  {
   "cell_type": "code",
   "execution_count": 0,
   "metadata": {
    "application/vnd.databricks.v1+cell": {
     "cellMetadata": {
      "byteLimit": 2048000,
      "rowLimit": 10000
     },
     "inputWidgets": {},
     "nuid": "1c7cfbb1-409f-49df-b064-fdeb1278cb4f",
     "showTitle": false,
     "title": ""
    },
    "colab": {
     "base_uri": "https://localhost:8080/",
     "height": 424
    },
    "id": "gGpqJO8p5Qph",
    "outputId": "63fdb956-3c07-4159-8276-f425464b9a62"
   },
   "outputs": [],
   "source": [
    "df_homologacion = pd.read_csv(ruta_entradas + 'stations.csv', delimiter = ';',\n",
    "                              usecols = ['StationName', 'SchedulingGroup', 'SchedulingUnit'])\n",
    "df_homologacion"
   ]
  },
  {
   "cell_type": "markdown",
   "metadata": {
    "application/vnd.databricks.v1+cell": {
     "cellMetadata": {
      "byteLimit": 2048000,
      "rowLimit": 10000
     },
     "inputWidgets": {},
     "nuid": "62e739a6-2762-46e9-8a70-09088b84b62f",
     "showTitle": false,
     "title": ""
    },
    "id": "WFZ9qqhv7SSE"
   },
   "source": [
    "## Tablas de validacion (WFS)"
   ]
  },
  {
   "cell_type": "code",
   "execution_count": 0,
   "metadata": {
    "application/vnd.databricks.v1+cell": {
     "cellMetadata": {
      "byteLimit": 2048000,
      "rowLimit": 10000
     },
     "inputWidgets": {},
     "nuid": "54a21e28-d5ec-42a4-a66a-15ddaff500e0",
     "showTitle": false,
     "title": ""
    },
    "id": "4WTlC5tX7sIO"
   },
   "outputs": [],
   "source": [
    "df_wfs = pd.read_excel(ruta_entradas + 'TablasWFS.xlsx', header = 1,\n",
    "                         usecols = ['Station Name (Caracteres 20)', 'Shift Name', 'QualificationName', 'SchedulingUnit'])\n",
    "\n",
    "v_estaciones = df_wfs['Station Name (Caracteres 20)'].dropna().drop_duplicates()\n",
    "v_turnos = df_wfs['Shift Name'].dropna().drop_duplicates()\n",
    "v_cualificaciones = df_wfs[['QualificationName', 'SchedulingUnit']].drop_duplicates()\n",
    "\n",
    "v_cualificaciones\n",
    "\n"
   ]
  },
  {
   "cell_type": "markdown",
   "metadata": {
    "application/vnd.databricks.v1+cell": {
     "cellMetadata": {
      "byteLimit": 2048000,
      "rowLimit": 10000
     },
     "inputWidgets": {},
     "nuid": "c3ba2b00-2591-4865-b994-151d133f0951",
     "showTitle": false,
     "title": ""
    },
    "id": "w95Tk7YjUG50"
   },
   "source": [
    "---\n",
    "# Agrupar\n",
    "---"
   ]
  },
  {
   "cell_type": "markdown",
   "metadata": {
    "application/vnd.databricks.v1+cell": {
     "cellMetadata": {
      "byteLimit": 2048000,
      "rowLimit": 10000
     },
     "inputWidgets": {},
     "nuid": "9eb9f659-5987-4c70-bb15-f14edf022040",
     "showTitle": false,
     "title": ""
    },
    "id": "v3dWBAY0_so4"
   },
   "source": [
    "## (x) Agrupar cuando el horario es continuo"
   ]
  },
  {
   "cell_type": "code",
   "execution_count": 0,
   "metadata": {
    "application/vnd.databricks.v1+cell": {
     "cellMetadata": {
      "byteLimit": 2048000,
      "rowLimit": 10000
     },
     "inputWidgets": {},
     "nuid": "7d81ac91-bfd8-4c63-9387-2b99e1d34716",
     "showTitle": false,
     "title": ""
    },
    "id": "A4E_d4NUB6_H"
   },
   "outputs": [],
   "source": [
    "# (Pendiente eliminar) Agrupar cuando el horario es continuo (teniendo en cuenta: persona y el dia, ignorar el consultorio)\n"
   ]
  },
  {
   "cell_type": "markdown",
   "metadata": {
    "application/vnd.databricks.v1+cell": {
     "cellMetadata": {
      "byteLimit": 2048000,
      "rowLimit": 10000
     },
     "inputWidgets": {},
     "nuid": "57dfc481-547f-4669-bba0-26aab6612302",
     "showTitle": false,
     "title": ""
    },
    "id": "1SMzsCtdchAx"
   },
   "source": [
    "## Obtener la hora maxima y minima para cada persona y dia"
   ]
  },
  {
   "cell_type": "code",
   "execution_count": 0,
   "metadata": {
    "application/vnd.databricks.v1+cell": {
     "cellMetadata": {
      "byteLimit": 2048000,
      "rowLimit": 10000
     },
     "inputWidgets": {},
     "nuid": "f3b842fc-e4fc-4f2d-ae66-a03bcbcfb622",
     "showTitle": false,
     "title": ""
    },
    "colab": {
     "base_uri": "https://localhost:8080/",
     "height": 424
    },
    "id": "TELjapCYb_8z",
    "outputId": "56e1e1d5-aaa1-4908-b722-4945ec81a6dd"
   },
   "outputs": [],
   "source": [
    "# (Nuevo) Obtener la hora maxima y minima para cada persona y dia\n",
    "# No importa si el horario es continuo o no, igual se entrega la franja completa\n",
    "\n",
    "df_modelo_gp = df_modelo.groupby(['id_sede', 'persona', 'dia']).agg({'hora_ini' : 'min', 'hora_fin' : 'max'})\n",
    "df_modelo_gp = df_modelo_gp.reset_index()\n",
    "\n",
    "df_modelo_gp\n",
    "\n"
   ]
  },
  {
   "cell_type": "markdown",
   "metadata": {
    "application/vnd.databricks.v1+cell": {
     "cellMetadata": {
      "byteLimit": 2048000,
      "rowLimit": 10000
     },
     "inputWidgets": {},
     "nuid": "146624d7-dbf8-49f2-9381-cd9e18d753c6",
     "showTitle": false,
     "title": ""
    },
    "id": "QBEEr8LKXNAl"
   },
   "source": [
    "---\n",
    "# Completar la información\n",
    "---\n",
    "Se debe hacer en este punto para poder construir los archivos de patrones de rotación"
   ]
  },
  {
   "cell_type": "markdown",
   "metadata": {
    "application/vnd.databricks.v1+cell": {
     "cellMetadata": {
      "byteLimit": 2048000,
      "rowLimit": 10000
     },
     "inputWidgets": {},
     "nuid": "0e52bb9e-0ed1-459e-b41b-463515592e9a",
     "showTitle": false,
     "title": ""
    },
    "id": "4wzf0m8WUovF"
   },
   "source": [
    "## Cruzar con el maestro de profesionales"
   ]
  },
  {
   "cell_type": "code",
   "execution_count": 0,
   "metadata": {
    "application/vnd.databricks.v1+cell": {
     "cellMetadata": {
      "byteLimit": 2048000,
      "rowLimit": 10000
     },
     "inputWidgets": {},
     "nuid": "e32fc3bf-1d43-4a6b-a79c-ee4096eb74ab",
     "showTitle": false,
     "title": ""
    },
    "colab": {
     "base_uri": "https://localhost:8080/",
     "height": 424
    },
    "id": "6kW63QoiCthN",
    "outputId": "974bf68d-f499-4a66-8a82-71594a8199af"
   },
   "outputs": [],
   "source": [
    "# Traer los campos para formar el archivo plano: con la persona traer el station y qualification del maestro #2 (profesionales)\n",
    "\n",
    "df_modelo_detallado = pd.merge(df_modelo_gp, df_profesionales, how = 'left', left_on=['id_sede', 'persona'], right_on=['id_sede', 'id_persona'])\n",
    "df_modelo_detallado = df_modelo_detallado.drop('id_persona', axis = 1)\n",
    "df_modelo_detallado\n"
   ]
  },
  {
   "cell_type": "markdown",
   "metadata": {
    "application/vnd.databricks.v1+cell": {
     "cellMetadata": {
      "byteLimit": 2048000,
      "rowLimit": 10000
     },
     "inputWidgets": {},
     "nuid": "44fb4444-e001-4443-942e-5e6a255bcb76",
     "showTitle": false,
     "title": ""
    },
    "id": "zBG6glmOU5aK"
   },
   "source": [
    "## Construir shift name"
   ]
  },
  {
   "cell_type": "code",
   "execution_count": 0,
   "metadata": {
    "application/vnd.databricks.v1+cell": {
     "cellMetadata": {
      "byteLimit": 2048000,
      "rowLimit": 10000
     },
     "inputWidgets": {},
     "nuid": "629dcdfd-0226-4e1b-96e9-1f1d7ec89edd",
     "showTitle": false,
     "title": ""
    },
    "colab": {
     "base_uri": "https://localhost:8080/",
     "height": 424
    },
    "id": "2UzYijnMCtyF",
    "outputId": "7ab8ee28-446a-4879-9cd2-3edea26cdb9c"
   },
   "outputs": [],
   "source": [
    "# Construir el shift name: con id_compañia poner el prefijo (22: IPS ; 28: Ay_Dx) + hora ini y hora fin\n",
    "\n",
    "# shift name\n",
    "\n",
    "def asignar_prefijo_turno(valor):\n",
    "    if valor == 22:\n",
    "        return 'IPS'\n",
    "    elif valor == 28:\n",
    "        return 'Ay_Dx'\n",
    "    else:\n",
    "        return '???'\n",
    "\n",
    "# primero asignamos el prefijo\n",
    "df_modelo_detallado['turno'] = df_modelo_detallado['id_tipo_sede'].apply(asignar_prefijo_turno)\n",
    "df_modelo_detallado = df_modelo_detallado.drop('id_tipo_sede', axis = 1) # al tener el prefijo ya no lo necesitamos\n",
    "df_modelo_detallado\n",
    "\n"
   ]
  },
  {
   "cell_type": "code",
   "execution_count": 0,
   "metadata": {
    "application/vnd.databricks.v1+cell": {
     "cellMetadata": {
      "byteLimit": 2048000,
      "rowLimit": 10000
     },
     "inputWidgets": {},
     "nuid": "50d2a0f8-f1bd-47f9-a680-6c92ca5ea582",
     "showTitle": false,
     "title": ""
    },
    "colab": {
     "base_uri": "https://localhost:8080/",
     "height": 424
    },
    "id": "hVhjJorDz4b7",
    "outputId": "1ac49921-3e5e-4948-bd8e-cca555483a3f"
   },
   "outputs": [],
   "source": [
    "df_modelo_detallado['turno'] = df_modelo_detallado['turno'] + '_' + \\\n",
    "df_modelo_detallado['hora_ini'].astype(str).str.zfill(2) + '00_' + \\\n",
    "df_modelo_detallado['hora_fin'].astype(str).str.zfill(2) + '00'\n",
    "\n",
    "df_modelo_detallado\n",
    "\n"
   ]
  },
  {
   "cell_type": "markdown",
   "metadata": {
    "application/vnd.databricks.v1+cell": {
     "cellMetadata": {
      "byteLimit": 2048000,
      "rowLimit": 10000
     },
     "inputWidgets": {},
     "nuid": "044996d5-8a28-4b93-9642-f2037e2a14bb",
     "showTitle": false,
     "title": ""
    },
    "id": "seU1Sl6KNcuq"
   },
   "source": [
    "## Construir model name"
   ]
  },
  {
   "cell_type": "code",
   "execution_count": 0,
   "metadata": {
    "application/vnd.databricks.v1+cell": {
     "cellMetadata": {
      "byteLimit": 2048000,
      "rowLimit": 10000
     },
     "inputWidgets": {},
     "nuid": "d8ee576a-411e-4aff-94cf-eb09a7c47e2e",
     "showTitle": false,
     "title": ""
    },
    "colab": {
     "base_uri": "https://localhost:8080/",
     "height": 522
    },
    "id": "DXTdLFnZNrnx",
    "outputId": "83f12587-3945-469c-f943-7d14d371e821"
   },
   "outputs": [],
   "source": [
    "# Agregar un nombre que haga unico cada registro\n",
    "\n",
    "df_modelo_detallado['nombre_modelo'] = df_modelo_detallado['estacion'] + '_' + df_modelo_detallado['cualificacion'] + '_' + df_modelo_detallado['turno']\n",
    "df_modelo_detallado\n"
   ]
  },
  {
   "cell_type": "markdown",
   "metadata": {
    "application/vnd.databricks.v1+cell": {
     "cellMetadata": {
      "byteLimit": 2048000,
      "rowLimit": 10000
     },
     "inputWidgets": {},
     "nuid": "5f6668fe-8544-442a-afa8-f38fa4b9ef5e",
     "showTitle": false,
     "title": ""
    },
    "id": "8L_-18NXZmwa"
   },
   "source": [
    "---\n",
    "# Construir dfs de patrones de rotación : df_maestro_patrones y df_detalle_patrones\n",
    "---"
   ]
  },
  {
   "cell_type": "markdown",
   "metadata": {
    "application/vnd.databricks.v1+cell": {
     "cellMetadata": {
      "byteLimit": 2048000,
      "rowLimit": 10000
     },
     "inputWidgets": {},
     "nuid": "45796987-6ef2-4b58-8307-bf907f583598",
     "showTitle": false,
     "title": ""
    },
    "id": "Ps_iKmgidYZW"
   },
   "source": [
    "## Detalle rotación\n",
    "Pasar los dias (texto) al numero que representa\n",
    "1: Lunes - 2: Martes - ... - 7: Domingo - 8: Lunes 2 - 9: Martes 2 - ..."
   ]
  },
  {
   "cell_type": "code",
   "execution_count": 0,
   "metadata": {
    "application/vnd.databricks.v1+cell": {
     "cellMetadata": {
      "byteLimit": 2048000,
      "rowLimit": 10000
     },
     "inputWidgets": {},
     "nuid": "5e171474-c0ec-4f1e-90ac-e80f52b64a73",
     "showTitle": false,
     "title": ""
    },
    "colab": {
     "base_uri": "https://localhost:8080/"
    },
    "id": "E6Jg9w-CZmY1",
    "outputId": "1808beb1-1c26-4563-f6a4-d787107bb570"
   },
   "outputs": [],
   "source": [
    "# Todo menos el ultimo elemento: \"festivo\"\n",
    "lista_dias_full = lista_dias[:-1]\n",
    "\n",
    "# Para que el domingo quede al final:\n",
    "tempi = lista_dias_full.pop(0)\n",
    "lista_dias_full.append(tempi)\n",
    "\n",
    "# Agregar la lista otra vez pero con el \"2\"\n",
    "lista_dias_full = lista_dias_full + [dia + \" 2\" for dia in lista_dias_full]\n",
    "\n",
    "lista_dias_full\n",
    "\n"
   ]
  },
  {
   "cell_type": "code",
   "execution_count": 0,
   "metadata": {
    "application/vnd.databricks.v1+cell": {
     "cellMetadata": {
      "byteLimit": 2048000,
      "rowLimit": 10000
     },
     "inputWidgets": {},
     "nuid": "8b4e1466-8f22-4402-a214-9791c60f6d9d",
     "showTitle": false,
     "title": ""
    },
    "colab": {
     "base_uri": "https://localhost:8080/",
     "height": 488
    },
    "id": "ni1vBJkOPaLN",
    "outputId": "c6bcf560-2d75-4cac-bda9-e0a1ce889919"
   },
   "outputs": [],
   "source": [
    "# Pasar dia a numero\n",
    "df_detalle_patrones = df_modelo_detallado.copy()\n",
    "df_detalle_patrones['dia'] = df_detalle_patrones['dia'].apply(lambda x: lista_dias_full.index(x) + 1).astype(str)\n",
    "df_detalle_patrones"
   ]
  },
  {
   "cell_type": "code",
   "execution_count": 0,
   "metadata": {
    "application/vnd.databricks.v1+cell": {
     "cellMetadata": {
      "byteLimit": 2048000,
      "rowLimit": 10000
     },
     "inputWidgets": {},
     "nuid": "9f65d85d-a183-4f0a-9a26-6cefe41c92af",
     "showTitle": false,
     "title": ""
    },
    "colab": {
     "base_uri": "https://localhost:8080/",
     "height": 488
    },
    "id": "s1gR2VRGkiK3",
    "outputId": "0a061c9a-240b-440c-ddae-381c032aeb45"
   },
   "outputs": [],
   "source": [
    "df_detalle_patrones['nombre_patron'] = df_detalle_patrones['persona'] + '_' + df_detalle_patrones['estacion']\n",
    "df_detalle_patrones\n"
   ]
  },
  {
   "cell_type": "markdown",
   "metadata": {
    "application/vnd.databricks.v1+cell": {
     "cellMetadata": {
      "byteLimit": 2048000,
      "rowLimit": 10000
     },
     "inputWidgets": {},
     "nuid": "6d5d2c8f-1f1e-43b4-ad2a-9e5d7bd4f62f",
     "showTitle": false,
     "title": ""
    },
    "id": "5cT9OmBR1gNt"
   },
   "source": [
    "## Maestro de rotación"
   ]
  },
  {
   "cell_type": "code",
   "execution_count": 0,
   "metadata": {
    "application/vnd.databricks.v1+cell": {
     "cellMetadata": {
      "byteLimit": 2048000,
      "rowLimit": 10000
     },
     "inputWidgets": {},
     "nuid": "412c0e29-5079-4104-b44e-78fb34557e93",
     "showTitle": false,
     "title": ""
    },
    "colab": {
     "base_uri": "https://localhost:8080/",
     "height": 424
    },
    "id": "gjRh_uuq1mV6",
    "outputId": "38171c9b-3e23-407c-ac04-d142a844688e"
   },
   "outputs": [],
   "source": [
    "df_maestro_patrones = df_detalle_patrones[['nombre_patron', 'estacion']].drop_duplicates()\n",
    "df_maestro_patrones['detalle'] = df_maestro_patrones['nombre_patron']\n",
    "df_maestro_patrones"
   ]
  },
  {
   "cell_type": "code",
   "execution_count": 0,
   "metadata": {
    "application/vnd.databricks.v1+cell": {
     "cellMetadata": {
      "byteLimit": 2048000,
      "rowLimit": 10000
     },
     "inputWidgets": {},
     "nuid": "c300a7fd-50bb-45d7-8099-12ce641eb3b5",
     "showTitle": false,
     "title": ""
    },
    "colab": {
     "base_uri": "https://localhost:8080/",
     "height": 488
    },
    "id": "dJG6oipe2UXd",
    "outputId": "04e9933c-d1ec-4596-8cc8-051424815bec"
   },
   "outputs": [],
   "source": [
    "# Completar informacion con la tabla de homologacion\n",
    "df_maestro_patrones = pd.merge(df_maestro_patrones, df_homologacion, how = 'left', left_on = 'estacion', right_on = 'StationName')\n",
    "df_maestro_patrones = df_maestro_patrones[['nombre_patron', 'detalle', 'SchedulingGroup', 'SchedulingUnit']]\n",
    "\n",
    "df_maestro_patrones"
   ]
  },
  {
   "cell_type": "markdown",
   "metadata": {
    "application/vnd.databricks.v1+cell": {
     "cellMetadata": {
      "byteLimit": 2048000,
      "rowLimit": 10000
     },
     "inputWidgets": {},
     "nuid": "9fe7a26c-f3da-4fef-ae76-21f776dd1216",
     "showTitle": false,
     "title": ""
    },
    "id": "tP_Yf7oa2UyL"
   },
   "source": [
    "## Continuar con el detalle"
   ]
  },
  {
   "cell_type": "code",
   "execution_count": 0,
   "metadata": {
    "application/vnd.databricks.v1+cell": {
     "cellMetadata": {
      "byteLimit": 2048000,
      "rowLimit": 10000
     },
     "inputWidgets": {},
     "nuid": "3f9c7eff-dc49-48a3-8fc0-c09705a420de",
     "showTitle": false,
     "title": ""
    },
    "colab": {
     "base_uri": "https://localhost:8080/",
     "height": 424
    },
    "id": "Ooo3xoUb0s_L",
    "outputId": "769d3824-18f6-4efc-9923-0d190fa1e54c"
   },
   "outputs": [],
   "source": [
    "df_detalle_patrones['esta_trabajando'] = 'Y'\n",
    "df_detalle_patrones = df_detalle_patrones[['nombre_patron', 'dia', 'esta_trabajando', 'nombre_modelo']]\n",
    "df_detalle_patrones"
   ]
  },
  {
   "cell_type": "code",
   "execution_count": 0,
   "metadata": {
    "application/vnd.databricks.v1+cell": {
     "cellMetadata": {
      "byteLimit": 2048000,
      "rowLimit": 10000
     },
     "inputWidgets": {},
     "nuid": "66e567bc-3122-4094-b129-1e93e3e9eb16",
     "showTitle": false,
     "title": ""
    },
    "colab": {
     "base_uri": "https://localhost:8080/",
     "height": 424
    },
    "id": "T56BsIw9szLj",
    "outputId": "d434cd8a-aff6-483d-831b-7d0d03e733ad"
   },
   "outputs": [],
   "source": [
    "patrones = df_detalle_patrones['nombre_patron'].unique()\n",
    "df_patrones_full = pd.DataFrame({'nombre_patron' : [], 'dia' : []})\n",
    "\n",
    "for i in range(1, 15):\n",
    "  _df = pd.DataFrame({'nombre_patron' : patrones})\n",
    "  _df['dia'] = f\"{i}\"\n",
    "  df_patrones_full = pd.concat([df_patrones_full, _df])\n",
    "\n",
    "df_patrones_full"
   ]
  },
  {
   "cell_type": "code",
   "execution_count": 0,
   "metadata": {
    "application/vnd.databricks.v1+cell": {
     "cellMetadata": {
      "byteLimit": 2048000,
      "rowLimit": 10000
     },
     "inputWidgets": {},
     "nuid": "13db605f-1c24-4b68-969d-efaa42b04be4",
     "showTitle": false,
     "title": ""
    },
    "colab": {
     "base_uri": "https://localhost:8080/",
     "height": 424
    },
    "id": "XhWcII8RpiHI",
    "outputId": "4a5ed7b0-da8f-48fc-9e3a-94b68c241cf7"
   },
   "outputs": [],
   "source": [
    "df_detalle_patrones = pd.merge(df_patrones_full, df_detalle_patrones, how = 'outer', on = ['nombre_patron', 'dia'])\n",
    "df_detalle_patrones['esta_trabajando'] = df_detalle_patrones['esta_trabajando'].fillna('Y')\n",
    "df_detalle_patrones['nombre_modelo'] = df_detalle_patrones['nombre_modelo'].fillna('DESCANSO')\n",
    "\n",
    "df_detalle_patrones"
   ]
  },
  {
   "cell_type": "markdown",
   "metadata": {
    "application/vnd.databricks.v1+cell": {
     "cellMetadata": {
      "byteLimit": 2048000,
      "rowLimit": 10000
     },
     "inputWidgets": {},
     "nuid": "50b24113-2a2d-460e-9dc9-92145ed61463",
     "showTitle": false,
     "title": ""
    },
    "id": "XEgoqwNjZxFw"
   },
   "source": [
    "---\n",
    "# Continuar con la creación del df de modelos\n",
    "---"
   ]
  },
  {
   "cell_type": "markdown",
   "metadata": {
    "application/vnd.databricks.v1+cell": {
     "cellMetadata": {
      "byteLimit": 2048000,
      "rowLimit": 10000
     },
     "inputWidgets": {},
     "nuid": "c06f6ef8-b52f-4777-89f4-ec8b5a8d9db5",
     "showTitle": false,
     "title": ""
    },
    "id": "6AxwqoA4_1FE"
   },
   "source": [
    "## Quitar el \"2\" en los dias y agrupar teniendo en cuenta: persona, horario (tiempos ini y fin) y dia (ignoramos consultorio)"
   ]
  },
  {
   "cell_type": "code",
   "execution_count": 0,
   "metadata": {
    "application/vnd.databricks.v1+cell": {
     "cellMetadata": {
      "byteLimit": 2048000,
      "rowLimit": 10000
     },
     "inputWidgets": {},
     "nuid": "b98d7047-ed2c-4c7b-8204-cb76c2368fde",
     "showTitle": false,
     "title": ""
    },
    "colab": {
     "base_uri": "https://localhost:8080/",
     "height": 488
    },
    "id": "n73DC8-_7nKV",
    "outputId": "44ea724e-017b-46c9-a37f-f35109ee8f75"
   },
   "outputs": [],
   "source": [
    "# Quitar el \"2\" en los dias\n",
    "df_modelo_detallado['dia'] = df_modelo_detallado['dia'].str.replace(' 2', '')\n",
    "df_modelo_detallado"
   ]
  },
  {
   "cell_type": "markdown",
   "metadata": {
    "application/vnd.databricks.v1+cell": {
     "cellMetadata": {
      "byteLimit": 2048000,
      "rowLimit": 10000
     },
     "inputWidgets": {},
     "nuid": "f02cff2f-2ad0-4a58-a23c-2f3007a9ba15",
     "showTitle": false,
     "title": ""
    },
    "id": "VgEmD4t8Ud3z"
   },
   "source": [
    "## Agrupar teniendo en cuenta: persona, horario (tiempos ini y fin) y dia\n",
    "\n",
    "---\n",
    "\\+ todos los cambios nuevos: estacion, cualificacion, turno y nombre_modelo"
   ]
  },
  {
   "cell_type": "code",
   "execution_count": 0,
   "metadata": {
    "application/vnd.databricks.v1+cell": {
     "cellMetadata": {
      "byteLimit": 2048000,
      "rowLimit": 10000
     },
     "inputWidgets": {},
     "nuid": "f2aca8b9-6e16-4f2c-a863-349e097f130f",
     "showTitle": false,
     "title": ""
    },
    "colab": {
     "base_uri": "https://localhost:8080/",
     "height": 488
    },
    "id": "FglSD10mB7PX",
    "outputId": "681af49b-f703-4510-8c9c-9f00c4f8410b"
   },
   "outputs": [],
   "source": [
    "# Agrupar teniendo en cuenta: persona, horario (tiempos ini y fin)\n",
    "# y dia (ignoramos consultorio)\n",
    "\n",
    "# agrupamos porque si tengo la misma persona en el mismo dia (semanas diferentes), solo me deberia quedar una sola vez\n",
    "# por otro lado, si tengo la misma persona en el mismo dia y tienen horarios diferentes (semanas diferentes) debo dejar los dos\n",
    "\n",
    "df_modelo_det_agrup = df_modelo_detallado.drop_duplicates(['id_sede', 'persona', 'dia', 'hora_ini', 'hora_fin',\n",
    "                                                           'cualificacion', 'estacion', 'turno', 'nombre_modelo'])\n",
    "df_modelo_det_agrup\n"
   ]
  },
  {
   "cell_type": "markdown",
   "metadata": {
    "application/vnd.databricks.v1+cell": {
     "cellMetadata": {
      "byteLimit": 2048000,
      "rowLimit": 10000
     },
     "inputWidgets": {},
     "nuid": "e871c67e-9baf-4c2f-af03-49762c448ff5",
     "showTitle": false,
     "title": ""
    },
    "id": "G8pHvWbZUjeV"
   },
   "source": [
    "## \"Transponer\" los dias"
   ]
  },
  {
   "cell_type": "code",
   "execution_count": 0,
   "metadata": {
    "application/vnd.databricks.v1+cell": {
     "cellMetadata": {
      "byteLimit": 2048000,
      "rowLimit": 10000
     },
     "inputWidgets": {},
     "nuid": "f3c10f58-c313-488d-aea4-7610e940aaeb",
     "showTitle": false,
     "title": ""
    },
    "colab": {
     "base_uri": "https://localhost:8080/",
     "height": 488
    },
    "id": "tTYvF2GO1Njt",
    "outputId": "2d55885b-3585-4bdf-d815-b9309bfc0ee4"
   },
   "outputs": [],
   "source": [
    "# \"Transponer\" los dias\n",
    "df_modelo_det_agrup = df_modelo_det_agrup.pivot_table(index=['id_sede', 'persona', 'hora_ini', 'hora_fin',\n",
    "                                                             'cualificacion', 'estacion', 'turno', 'nombre_modelo'],\n",
    "                                                      columns = 'dia', aggfunc = lambda x: 1)\n",
    "df_modelo_det_agrup = df_modelo_det_agrup.fillna(0)\n",
    "df_modelo_det_agrup = df_modelo_det_agrup.reset_index()\n",
    "\n",
    "# agregar las columnas que hagan falta, si no tenemos registros para un dia\n",
    "# especifico, no existira la columna despues de transponer\n",
    "campos_faltantes = set(lista_dias) - set(df_modelo_det_agrup.columns)\n",
    "for campo in campos_faltantes:\n",
    "  df_modelo_det_agrup[f'{campo}'] = 0.0\n",
    "\n",
    "df_modelo_det_agrup"
   ]
  },
  {
   "cell_type": "markdown",
   "metadata": {
    "application/vnd.databricks.v1+cell": {
     "cellMetadata": {
      "byteLimit": 2048000,
      "rowLimit": 10000
     },
     "inputWidgets": {},
     "nuid": "6a119207-f04e-4890-b1ee-2561c25c2e72",
     "showTitle": false,
     "title": ""
    },
    "id": "a2FHWP0NvhIS"
   },
   "source": [
    "---\n",
    "# Agregar los campos \"calculados\"\n",
    "\n",
    "\n",
    "\n",
    "\n",
    "\n",
    "---"
   ]
  },
  {
   "cell_type": "markdown",
   "metadata": {
    "application/vnd.databricks.v1+cell": {
     "cellMetadata": {
      "byteLimit": 2048000,
      "rowLimit": 10000
     },
     "inputWidgets": {},
     "nuid": "4bd13f28-3196-4c96-bc01-0cb699747605",
     "showTitle": false,
     "title": ""
    },
    "id": "z2Mc5c3mVBIO"
   },
   "source": [
    "## Agrupar sin tener en cuenta las personas"
   ]
  },
  {
   "cell_type": "code",
   "execution_count": 0,
   "metadata": {
    "application/vnd.databricks.v1+cell": {
     "cellMetadata": {
      "byteLimit": 2048000,
      "rowLimit": 10000
     },
     "inputWidgets": {},
     "nuid": "c690c288-aa1b-4251-ab4e-57fdcda1d81e",
     "showTitle": false,
     "title": ""
    },
    "colab": {
     "base_uri": "https://localhost:8080/",
     "height": 488
    },
    "id": "1fgiPjsE1PeY",
    "outputId": "7f3be921-e96f-4e21-a1a2-84c07ac41ce7"
   },
   "outputs": [],
   "source": [
    "# Agrupar utilizando StationName, ShiftName, QualificationNames y los ini y fin de cada dia\n",
    "\n",
    "df_modelos_eu = df_modelo_det_agrup.groupby(['hora_ini', 'hora_fin', 'cualificacion', 'estacion',\n",
    "                                             'turno', 'nombre_modelo'])[lista_dias].agg(['sum'])\n",
    "df_modelos_eu = df_modelos_eu.reset_index()\n",
    "\n",
    "# quitar los \"sum\"\n",
    "df_modelos_eu.columns = [sublista[0] for sublista in df_modelos_eu.columns]\n",
    "\n",
    "df_modelos_eu"
   ]
  },
  {
   "cell_type": "markdown",
   "metadata": {
    "application/vnd.databricks.v1+cell": {
     "cellMetadata": {
      "byteLimit": 2048000,
      "rowLimit": 10000
     },
     "inputWidgets": {},
     "nuid": "9e39331f-6f44-4c2e-9842-db2fdc793468",
     "showTitle": false,
     "title": ""
    },
    "id": "jvImN8U5ScdJ"
   },
   "source": [
    "## Dar formato a la hora"
   ]
  },
  {
   "cell_type": "code",
   "execution_count": 0,
   "metadata": {
    "application/vnd.databricks.v1+cell": {
     "cellMetadata": {
      "byteLimit": 2048000,
      "rowLimit": 10000
     },
     "inputWidgets": {},
     "nuid": "03e0a748-e21e-4304-8ff8-14be054440b6",
     "showTitle": false,
     "title": ""
    },
    "colab": {
     "base_uri": "https://localhost:8080/",
     "height": 488
    },
    "id": "iV_-KPRr1PyZ",
    "outputId": "69eb246a-b8c4-443f-9197-f3f4b6212f74"
   },
   "outputs": [],
   "source": [
    "#\n",
    "df_modelos_eu['hora_ini'] = df_modelos_eu['hora_ini'].astype(str) + ':00'\n",
    "df_modelos_eu['hora_fin'] = df_modelos_eu['hora_fin'].astype(str) + ':00'\n",
    "\n",
    "df_modelos_eu"
   ]
  },
  {
   "cell_type": "markdown",
   "metadata": {
    "application/vnd.databricks.v1+cell": {
     "cellMetadata": {
      "byteLimit": 2048000,
      "rowLimit": 10000
     },
     "inputWidgets": {},
     "nuid": "80188457-e496-4153-b157-84a57da7f933",
     "showTitle": false,
     "title": ""
    },
    "id": "yGEil-hscp6S"
   },
   "source": [
    "---\n",
    "# Renombrar y ordenar (parcial)\n",
    "---"
   ]
  },
  {
   "cell_type": "markdown",
   "metadata": {
    "application/vnd.databricks.v1+cell": {
     "cellMetadata": {
      "byteLimit": 2048000,
      "rowLimit": 10000
     },
     "inputWidgets": {},
     "nuid": "3fbf2c16-0a7a-4e2c-b026-7d79007adfee",
     "showTitle": false,
     "title": ""
    },
    "id": "c-c6MwXING5m"
   },
   "source": [
    "## Modelos"
   ]
  },
  {
   "cell_type": "code",
   "execution_count": 0,
   "metadata": {
    "application/vnd.databricks.v1+cell": {
     "cellMetadata": {
      "byteLimit": 2048000,
      "rowLimit": 10000
     },
     "inputWidgets": {},
     "nuid": "77519cfc-58d7-4978-aa9e-2fc1f881a347",
     "showTitle": false,
     "title": ""
    },
    "colab": {
     "base_uri": "https://localhost:8080/",
     "height": 488
    },
    "id": "RwJYPmA3cu8a",
    "outputId": "4f353795-86a1-43d2-ed17-becd35891a09"
   },
   "outputs": [],
   "source": [
    "# renombrar\n",
    "df_modelos_eu = df_modelos_eu.rename(\n",
    "    columns = {\n",
    "        'nombre_modelo' : 'ModelName',\n",
    "        'estacion' : 'StationName',\n",
    "        'turno' : 'ShiftName',\n",
    "        'cualificacion' : 'QualificationNames',\n",
    "    }\n",
    ")\n",
    "\n",
    "# ordenar:\n",
    "nuevo_orden = ['ModelName', 'StationName', 'ShiftName', 'QualificationNames',\n",
    "               'hora_ini', 'hora_fin'] + lista_dias\n",
    "df_modelos_eu = df_modelos_eu.reindex(columns = nuevo_orden, fill_value = None)\n",
    "\n",
    "\n",
    "df_modelos_eu"
   ]
  },
  {
   "cell_type": "markdown",
   "metadata": {
    "application/vnd.databricks.v1+cell": {
     "cellMetadata": {
      "byteLimit": 2048000,
      "rowLimit": 10000
     },
     "inputWidgets": {},
     "nuid": "67b16209-47bd-44f1-ac74-a5419b4862dc",
     "showTitle": false,
     "title": ""
    },
    "id": "RUFlMTvQNJcl"
   },
   "source": [
    "## Maestro de rotación"
   ]
  },
  {
   "cell_type": "code",
   "execution_count": 0,
   "metadata": {
    "application/vnd.databricks.v1+cell": {
     "cellMetadata": {
      "byteLimit": 2048000,
      "rowLimit": 10000
     },
     "inputWidgets": {},
     "nuid": "7807fcc2-6f2d-4826-9b2d-c3791dc47612",
     "showTitle": false,
     "title": ""
    },
    "colab": {
     "base_uri": "https://localhost:8080/",
     "height": 488
    },
    "id": "hMOm4nmrNJBt",
    "outputId": "e414092e-d4d2-4c5e-d34b-35b24ef7aba5"
   },
   "outputs": [],
   "source": [
    "# renombrar\n",
    "df_maestro_patrones = df_maestro_patrones.rename(\n",
    "    columns = {\n",
    "        'nombre_patron' : 'RotationPatternName',\n",
    "        'detalle' : 'Description'\n",
    "    }\n",
    ")\n",
    "\n",
    "df_maestro_patrones"
   ]
  },
  {
   "cell_type": "markdown",
   "metadata": {
    "application/vnd.databricks.v1+cell": {
     "cellMetadata": {
      "byteLimit": 2048000,
      "rowLimit": 10000
     },
     "inputWidgets": {},
     "nuid": "008a8cd4-089d-4db1-ad40-f27b140a6d83",
     "showTitle": false,
     "title": ""
    },
    "id": "Qu506eprOSLW"
   },
   "source": [
    "## Detalle de rotación"
   ]
  },
  {
   "cell_type": "code",
   "execution_count": 0,
   "metadata": {
    "application/vnd.databricks.v1+cell": {
     "cellMetadata": {
      "byteLimit": 2048000,
      "rowLimit": 10000
     },
     "inputWidgets": {},
     "nuid": "154841b4-278a-4e07-9f51-7c80ecab221b",
     "showTitle": false,
     "title": ""
    },
    "colab": {
     "base_uri": "https://localhost:8080/",
     "height": 424
    },
    "id": "4KsjAWTPOAKR",
    "outputId": "eb2da321-b7c0-4386-d7de-0859f0c409de"
   },
   "outputs": [],
   "source": [
    "# renombrar\n",
    "df_detalle_patrones = df_detalle_patrones.rename(\n",
    "    columns = {\n",
    "        'nombre_patron' : 'RotationPatternName',\n",
    "        'dia' : 'DayNumber',\n",
    "        'esta_trabajando' : 'IsWorking',\n",
    "        'nombre_modelo' : 'Model'\n",
    "    }\n",
    ")\n",
    "\n",
    "df_detalle_patrones"
   ]
  },
  {
   "cell_type": "markdown",
   "metadata": {
    "application/vnd.databricks.v1+cell": {
     "cellMetadata": {
      "byteLimit": 2048000,
      "rowLimit": 10000
     },
     "inputWidgets": {},
     "nuid": "fbf24fe7-da4e-47b2-87f5-4fc8d123d7bf",
     "showTitle": false,
     "title": ""
    },
    "id": "QpGlMUFCdPt4"
   },
   "source": [
    "---\n",
    "# Agregar campos restantes (\"fijos\" y vacios)\n",
    "---"
   ]
  },
  {
   "cell_type": "markdown",
   "metadata": {
    "application/vnd.databricks.v1+cell": {
     "cellMetadata": {
      "byteLimit": 2048000,
      "rowLimit": 10000
     },
     "inputWidgets": {},
     "nuid": "1c72d986-214f-4ddf-8797-d9606e3359f7",
     "showTitle": false,
     "title": ""
    },
    "id": "CI77O8N0O9FR"
   },
   "source": [
    "## Modelos"
   ]
  },
  {
   "cell_type": "code",
   "execution_count": 0,
   "metadata": {
    "application/vnd.databricks.v1+cell": {
     "cellMetadata": {
      "byteLimit": 2048000,
      "rowLimit": 10000
     },
     "inputWidgets": {},
     "nuid": "2d67e34c-a93e-48fe-82aa-6cf477e3d6f7",
     "showTitle": false,
     "title": ""
    },
    "colab": {
     "base_uri": "https://localhost:8080/",
     "height": 661
    },
    "id": "4bG4VZpauNjp",
    "outputId": "d0085f66-a699-4de8-b743-b83ef847695f"
   },
   "outputs": [],
   "source": [
    "\n",
    "df_modelos_eu['ModelType'] = 'WORK'\n",
    "df_modelos_eu['StartDate'] = datetime.now().strftime(\"%Y-%m-%d\")\n",
    "df_modelos_eu['EndDate'] = '3000-12-31'\n",
    "df_modelos_eu['DifficultyRating'] = 0\n",
    "df_modelos_eu['AllowJobOverlap'] = 'N'\n",
    "df_modelos_eu['CalloutOrder'] = 'NOT_REQUIRED'\n",
    "df_modelos_eu['CalloutWritesOTEqualization'] = 'NOT_REQUIRED'\n",
    "df_modelos_eu['FMStatus'] = ''\n",
    "df_modelos_eu['Description'] = df_modelos_eu['ShiftName']\n",
    "df_modelos_eu['DbsDataPolicy'] = ''\n",
    "df_modelos_eu['DbsHierarchyNode'] = ''\n",
    "\n",
    "\n",
    "for num_dia in range(0, 8):\n",
    "\n",
    "  df_modelos_eu[f'{lista_dias_wfs[num_dia]}Start'] = df_modelos_eu['hora_ini']\n",
    "  df_modelos_eu[f'{lista_dias_wfs[num_dia]}End'] = df_modelos_eu['hora_fin']\n",
    "\n",
    "  df_modelos_eu[f'{lista_dias_wfs[num_dia]}Proficiency'] = ''\n",
    "  df_modelos_eu[f'{lista_dias_wfs[num_dia]}RequiredHeadCount'] = df_modelos_eu[f'{lista_dias[num_dia]}'].astype(int)\n",
    "\n",
    "  df_modelos_eu[f'{lista_dias_wfs[num_dia]}OptionalHeadCount'] = ''\n",
    "  df_modelos_eu[f'{lista_dias_wfs[num_dia]}ScheduleOrder'] = ''\n",
    "  df_modelos_eu[f'{lista_dias_wfs[num_dia]}LaborStandard'] = ''\n",
    "\n",
    "\n",
    "for i in range(1, 16):\n",
    "  df_modelos_eu[f'UserField{i}'] = ''\n",
    "\n",
    "# ya no se necesitan\n",
    "df_modelos_eu = df_modelos_eu.drop(['hora_ini', 'hora_fin'] + lista_dias, axis = 1)\n",
    "\n",
    "df_modelos_eu"
   ]
  },
  {
   "cell_type": "markdown",
   "metadata": {
    "application/vnd.databricks.v1+cell": {
     "cellMetadata": {
      "byteLimit": 2048000,
      "rowLimit": 10000
     },
     "inputWidgets": {},
     "nuid": "6506297c-3aa9-4064-bfc9-94583ff26a20",
     "showTitle": false,
     "title": ""
    },
    "id": "ocCLF82SL2Fi"
   },
   "source": [
    "## Maestro de rotación"
   ]
  },
  {
   "cell_type": "code",
   "execution_count": 0,
   "metadata": {
    "application/vnd.databricks.v1+cell": {
     "cellMetadata": {
      "byteLimit": 2048000,
      "rowLimit": 10000
     },
     "inputWidgets": {},
     "nuid": "69fecb57-3b4c-4363-9b8f-951174aa2166",
     "showTitle": false,
     "title": ""
    },
    "colab": {
     "base_uri": "https://localhost:8080/",
     "height": 488
    },
    "id": "glxS27qBLthu",
    "outputId": "0cf57535-f76c-43cd-a816-4e1cb86f164c"
   },
   "outputs": [],
   "source": [
    "for i in range(1, 11):\n",
    "  df_maestro_patrones[f'UserField{i}'] = ''\n",
    "\n",
    "df_maestro_patrones"
   ]
  },
  {
   "cell_type": "markdown",
   "metadata": {
    "application/vnd.databricks.v1+cell": {
     "cellMetadata": {
      "byteLimit": 2048000,
      "rowLimit": 10000
     },
     "inputWidgets": {},
     "nuid": "083226a0-e65d-4e38-beef-635fffc7b00f",
     "showTitle": false,
     "title": ""
    },
    "id": "d_j4vsPVL7BR"
   },
   "source": [
    "## Detalle de rotación"
   ]
  },
  {
   "cell_type": "code",
   "execution_count": 0,
   "metadata": {
    "application/vnd.databricks.v1+cell": {
     "cellMetadata": {
      "byteLimit": 2048000,
      "rowLimit": 10000
     },
     "inputWidgets": {},
     "nuid": "27a704fc-d7b4-48b0-9464-b4ed9e03f7b9",
     "showTitle": false,
     "title": ""
    },
    "colab": {
     "base_uri": "https://localhost:8080/",
     "height": 488
    },
    "id": "dqvuskMWMAAh",
    "outputId": "b865a00c-958e-481a-c372-351b8032f158"
   },
   "outputs": [],
   "source": [
    "df_detalle_patrones['ReportNotation'] = ''\n",
    "df_detalle_patrones['MinBreakBetweenShifts'] = ''\n",
    "\n",
    "for i in range(1, 6):\n",
    "  df_detalle_patrones[f'UserField{i}'] = ''\n",
    "\n",
    "for i in range(1, 6):\n",
    "  df_detalle_patrones[f'FMDayUserField{i}'] = ''\n",
    "\n",
    "df_detalle_patrones\n",
    "\n"
   ]
  },
  {
   "cell_type": "markdown",
   "metadata": {
    "application/vnd.databricks.v1+cell": {
     "cellMetadata": {
      "byteLimit": 2048000,
      "rowLimit": 10000
     },
     "inputWidgets": {},
     "nuid": "6ce4b71a-cd04-4814-a272-c8bae04af09b",
     "showTitle": false,
     "title": ""
    },
    "id": "QZ79qbEtuZ-u"
   },
   "source": [
    "---\n",
    "# Exportar CSV\n",
    "---"
   ]
  },
  {
   "cell_type": "code",
   "execution_count": 0,
   "metadata": {
    "application/vnd.databricks.v1+cell": {
     "cellMetadata": {
      "byteLimit": 2048000,
      "rowLimit": 10000
     },
     "inputWidgets": {},
     "nuid": "ae1d7c17-f6a7-4fed-aa84-999c20a33f4c",
     "showTitle": false,
     "title": ""
    },
    "id": "2Bg7Af97jEFt"
   },
   "outputs": [],
   "source": [
    "df_modelos_eu.to_csv(ruta_salidas + 'db_models.csv', index = False)"
   ]
  },
  {
   "cell_type": "code",
   "execution_count": 0,
   "metadata": {
    "application/vnd.databricks.v1+cell": {
     "cellMetadata": {
      "byteLimit": 2048000,
      "rowLimit": 10000
     },
     "inputWidgets": {},
     "nuid": "0b6d9ae5-2a80-4fd8-ac77-978c3b85d319",
     "showTitle": false,
     "title": ""
    },
    "id": "cylI682BQNk-"
   },
   "outputs": [],
   "source": [
    "df_maestro_patrones.to_csv(ruta_salidas + 'rotation_pattern_masters.csv', index = False)"
   ]
  },
  {
   "cell_type": "code",
   "execution_count": 0,
   "metadata": {
    "application/vnd.databricks.v1+cell": {
     "cellMetadata": {
      "byteLimit": 2048000,
      "rowLimit": 10000
     },
     "inputWidgets": {},
     "nuid": "f29d73fe-7c26-4b3c-9313-0b32a9ba09cc",
     "showTitle": false,
     "title": ""
    },
    "id": "qQD4s8t-QN_5"
   },
   "outputs": [],
   "source": [
    "df_detalle_patrones.to_csv(ruta_salidas + 'rotation_pattern_details.csv', index = False)"
   ]
  },
  {
   "cell_type": "markdown",
   "metadata": {
    "application/vnd.databricks.v1+cell": {
     "cellMetadata": {
      "byteLimit": 2048000,
      "rowLimit": 10000
     },
     "inputWidgets": {},
     "nuid": "d4e2953f-5b65-4044-89f2-7de3525f4e32",
     "showTitle": false,
     "title": ""
    },
    "id": "ExUNoiCN9Jut"
   },
   "source": [
    "---\n",
    "# Validaciones para verificar que todo existe en WFS\n",
    "---\n",
    "Si algo no existe se debe crear en WFS antes se subir cualquier archivo."
   ]
  },
  {
   "cell_type": "markdown",
   "metadata": {
    "application/vnd.databricks.v1+cell": {
     "cellMetadata": {
      "byteLimit": 2048000,
      "rowLimit": 10000
     },
     "inputWidgets": {},
     "nuid": "7d305eba-7ce4-4804-ac1e-e86091461341",
     "showTitle": false,
     "title": ""
    },
    "id": "xgxmVwaP9Ulw"
   },
   "source": [
    "## Estaciones"
   ]
  },
  {
   "cell_type": "code",
   "execution_count": 0,
   "metadata": {
    "application/vnd.databricks.v1+cell": {
     "cellMetadata": {
      "byteLimit": 2048000,
      "rowLimit": 10000
     },
     "inputWidgets": {},
     "nuid": "b807825f-e130-4949-af24-54767979934b",
     "showTitle": false,
     "title": ""
    },
    "colab": {
     "base_uri": "https://localhost:8080/"
    },
    "id": "kvju6j4YQx5t",
    "outputId": "97135128-28f4-4f14-ece6-29708efbe1ee"
   },
   "outputs": [],
   "source": [
    "min_estaciones = df_modelos_eu['StationName'].dropna().drop_duplicates()\n",
    "estaciones_faltantes = min_estaciones[ ~min_estaciones.isin(v_estaciones) ]\n",
    "\n",
    "if len(estaciones_faltantes) > 0:\n",
    "    estaciones_faltantes.to_excel('WFS_estaciones_faltantes.xlsx', index = False)\n",
    "    shutil.move('WFS_estaciones_faltantes.xlsx', ruta_salidas)\n",
    "\n",
    "estaciones_faltantes"
   ]
  },
  {
   "cell_type": "markdown",
   "metadata": {
    "application/vnd.databricks.v1+cell": {
     "cellMetadata": {
      "byteLimit": 2048000,
      "rowLimit": 10000
     },
     "inputWidgets": {},
     "nuid": "b3d3ee0f-4ee2-4ad6-a183-0fd87c477e53",
     "showTitle": false,
     "title": ""
    },
    "id": "R2pFoqUA9RvT"
   },
   "source": [
    "## Turnos"
   ]
  },
  {
   "cell_type": "code",
   "execution_count": 0,
   "metadata": {
    "application/vnd.databricks.v1+cell": {
     "cellMetadata": {
      "byteLimit": 2048000,
      "rowLimit": 10000
     },
     "inputWidgets": {},
     "nuid": "417a08c3-a1ed-4339-b434-8d18c4acd4dd",
     "showTitle": false,
     "title": ""
    },
    "colab": {
     "base_uri": "https://localhost:8080/"
    },
    "id": "G55PZO72gr-Y",
    "outputId": "5f0b3460-118e-4914-82c9-c6cde93799ba"
   },
   "outputs": [],
   "source": [
    "min_turnos = df_modelos_eu['ShiftName'].dropna().drop_duplicates()\n",
    "turnos_faltantes = min_turnos[ ~min_turnos.isin(v_turnos) ]\n",
    "\n",
    "if len(turnos_faltantes) > 0:\n",
    "    turnos_faltantes.to_excel('WFS_turnos_faltantes.xlsx', index = False)\n",
    "    shutil.move('WFS_turnos_faltantes.xlsx', ruta_salidas)\n",
    "\n",
    "turnos_faltantes"
   ]
  },
  {
   "cell_type": "markdown",
   "metadata": {
    "application/vnd.databricks.v1+cell": {
     "cellMetadata": {
      "byteLimit": 2048000,
      "rowLimit": 10000
     },
     "inputWidgets": {},
     "nuid": "018a4509-974a-45f9-bfd2-1c6f8e6ebf71",
     "showTitle": false,
     "title": ""
    },
    "id": "Kjd4d-ij9Z9f"
   },
   "source": [
    "## Cualificaciones"
   ]
  },
  {
   "cell_type": "code",
   "execution_count": 0,
   "metadata": {
    "application/vnd.databricks.v1+cell": {
     "cellMetadata": {
      "byteLimit": 2048000,
      "rowLimit": 10000
     },
     "inputWidgets": {},
     "nuid": "fda11378-f147-40f2-bb60-038b12093f07",
     "showTitle": false,
     "title": ""
    }
   },
   "outputs": [],
   "source": [
    "min_cualificaciones = df_modelos_eu[['QualificationNames', 'StationName']].drop_duplicates()\n",
    "\n",
    "# encontrar el scheduling group para ese station\n",
    "min_cualificaciones = pd.merge(min_cualificaciones, df_homologacion, how = 'left', on = 'StationName')\n",
    "min_cualificaciones = min_cualificaciones.drop(['StationName', 'SchedulingGroup'], axis = 1)\n",
    "min_cualificaciones"
   ]
  },
  {
   "cell_type": "code",
   "execution_count": 0,
   "metadata": {
    "application/vnd.databricks.v1+cell": {
     "cellMetadata": {
      "byteLimit": 2048000,
      "rowLimit": 10000
     },
     "inputWidgets": {},
     "nuid": "402e04e6-ee60-4d2f-8106-9bf12c5f2266",
     "showTitle": false,
     "title": ""
    }
   },
   "outputs": [],
   "source": [
    "cualificaciones_faltantes = min_cualificaciones[ ~min_cualificaciones.isin(v_cualificaciones) ]\n",
    "cualificaciones_faltantes"
   ]
  },
  {
   "cell_type": "code",
   "execution_count": 0,
   "metadata": {
    "application/vnd.databricks.v1+cell": {
     "cellMetadata": {
      "byteLimit": 2048000,
      "rowLimit": 10000
     },
     "inputWidgets": {},
     "nuid": "357d1de9-8e02-41c1-ae2b-d04244f496b0",
     "showTitle": false,
     "title": ""
    },
    "colab": {
     "base_uri": "https://localhost:8080/"
    },
    "id": "GLh7B1zbgssR",
    "outputId": "8873bc98-22c6-459e-eb69-c2e37904a11c"
   },
   "outputs": [],
   "source": [
    "min_min_cualificaciones = min_cualificaciones[['QualificationNames']].drop_duplicates()\n",
    "min_min_cualificaciones['Observaciones'] = 'Existe, pero hay problemas con Scheduling Unit'\n",
    "\n",
    "cualificaciones_faltantes = pd.merge(cualificaciones_faltantes, min_min_cualificaciones, how = 'left', on = 'QualificationNames')\n",
    "\n",
    "if len(cualificaciones_faltantes) > 0:\n",
    "    cualificaciones_faltantes.to_excel('WFS_cualificaciones_faltantes.xlsx', index = False)\n",
    "    shutil.move('WFS_cualificaciones_faltantes.xlsx', ruta_salidas)\n",
    "\n",
    "cualificaciones_faltantes"
   ]
  },
  {
   "cell_type": "markdown",
   "metadata": {
    "application/vnd.databricks.v1+cell": {
     "cellMetadata": {
      "byteLimit": 2048000,
      "rowLimit": 10000
     },
     "inputWidgets": {},
     "nuid": "5b3bebcf-9572-4461-8e0b-cb327d7bbf28",
     "showTitle": false,
     "title": ""
    }
   },
   "source": [
    "# Enviar a SFTP"
   ]
  },
  {
   "cell_type": "code",
   "execution_count": 0,
   "metadata": {
    "application/vnd.databricks.v1+cell": {
     "cellMetadata": {
      "byteLimit": 2048000,
      "rowLimit": 10000
     },
     "inputWidgets": {},
     "nuid": "03a19b1c-0c36-4659-a737-771945760eff",
     "showTitle": false,
     "title": ""
    }
   },
   "outputs": [],
   "source": [
    "# Configuracion de conexion SFTP\n",
    "# sftp_host = 'FTPLAB03.labsura.local'\n",
    "sftp_host = '10.51.156.8'\n",
    "sftp_username = 'FTPCuadrodeTurnos'\n",
    "sftp_password = 'Ftpcu4dr0d3turn0s'\n",
    "\n",
    "cnopts = pysftp.CnOpts()\n",
    "cnopts.hostkeys = None\n",
    "\n",
    "# conexion SFTP\n",
    "with pysftp.Connection(host=sftp_host, username=sftp_username, password=sftp_password, cnopts=cnopts) as sftp:\n",
    "    \n",
    "    # borrar archivos existentes\n",
    "    archivos_remotos = sftp.listdir(ruta_salidas_sftp)\n",
    "    for archivo_remoto in archivos_remotos:\n",
    "        # borrar\n",
    "        sftp.remove(ruta_salidas_sftp + archivo_remoto)\n",
    "        print('Archivo ' + archivo_remoto + ' borrado.')\n",
    "\n",
    "    # enviar archivos nuevos\n",
    "    archivos_locales = os.listdir(ruta_salidas)\n",
    "    for archivo_local in archivos_locales:\n",
    "        sftp.put(ruta_salidas + archivo_local, ruta_salidas_sftp + archivo_local)\n",
    "        print('Archivo ' + archivo_local + ' enviado.')\n",
    "\n",
    "\n",
    "\n",
    "\n"
   ]
  }
 ],
 "metadata": {
  "application/vnd.databricks.v1+notebook": {
   "dashboards": [],
   "language": "python",
   "notebookMetadata": {
    "pythonIndentUnit": 4
   },
   "notebookName": "outputs",
   "widgets": {}
  },
  "colab": {
   "collapsed_sections": [
    "v3dWBAY0_so4"
   ],
   "provenance": []
  },
  "kernelspec": {
   "display_name": "Python 3",
   "name": "python3"
  },
  "language_info": {
   "name": "python"
  }
 },
 "nbformat": 4,
 "nbformat_minor": 0
}
